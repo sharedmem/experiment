{
 "cells": [
  {
   "cell_type": "code",
   "execution_count": 113,
   "id": "5b9a5d27-f3d3-428a-95d0-88cb7b378c43",
   "metadata": {},
   "outputs": [],
   "source": [
    "import os\n",
    "import random\n",
    "import time\n",
    "\n",
    "import matplotlib.pyplot as plt\n",
    "import numpy as np\n",
    "import pandas as pd\n",
    "import pymysql\n",
    "import pymongo"
   ]
  },
  {
   "cell_type": "code",
   "execution_count": 114,
   "id": "ba78674d-39c6-4e02-9471-9c6bb9a49768",
   "metadata": {},
   "outputs": [],
   "source": [
    "# Wait for the databases to be ready.\n",
    "def wait_for_services():\n",
    "    time.sleep(10)  # Wait for 10 seconds for the services to start."
   ]
  },
  {
   "cell_type": "code",
   "execution_count": 115,
   "id": "a9f37cd6-bd4b-45a4-87fa-6121e5755747",
   "metadata": {},
   "outputs": [],
   "source": [
    "# MySQL connection.\n",
    "mysql_conn = pymysql.connect(host='localhost', user='root', password='root')\n",
    "mysql_cursor = mysql_conn.cursor()"
   ]
  },
  {
   "cell_type": "code",
   "execution_count": 116,
   "id": "d8f0d5a0-3d33-4e5b-9961-482075857f08",
   "metadata": {},
   "outputs": [
    {
     "data": {
      "text/plain": [
       "0"
      ]
     },
     "execution_count": 116,
     "metadata": {},
     "output_type": "execute_result"
    }
   ],
   "source": [
    "# Create the database if it doesn't exist.\n",
    "mysql_cursor.execute(\"CREATE DATABASE IF NOT EXISTS test_db;\")\n",
    "mysql_cursor.execute(\"USE test_db;\")"
   ]
  },
  {
   "cell_type": "code",
   "execution_count": 117,
   "id": "07e142d2-7ff0-4624-af2e-dd3da549f763",
   "metadata": {},
   "outputs": [
    {
     "data": {
      "text/plain": [
       "0"
      ]
     },
     "execution_count": 117,
     "metadata": {},
     "output_type": "execute_result"
    }
   ],
   "source": [
    "# Create MySQL table.\n",
    "mysql_cursor.execute(\"\"\"\n",
    "    CREATE TABLE IF NOT EXISTS FTIDX_table (\n",
    "        id INT AUTO_INCREMENT PRIMARY KEY,\n",
    "        name VARCHAR(255),\n",
    "        country VARCHAR(255),\n",
    "        FULLTEXT(name)\n",
    "    );\n",
    "\"\"\")\n",
    "\n",
    "mysql_cursor.execute(\"\"\"\n",
    "    CREATE TABLE IF NOT EXISTS IDX_table (\n",
    "        id INT AUTO_INCREMENT PRIMARY KEY,\n",
    "        name VARCHAR(255),\n",
    "        country VARCHAR(255),\n",
    "        INDEX(name)\n",
    "    );\n",
    "\"\"\")\n",
    "\n",
    "mysql_cursor.execute(\"\"\"\n",
    "    CREATE TABLE IF NOT EXISTS NOIDX_table (\n",
    "        id INT AUTO_INCREMENT PRIMARY KEY,\n",
    "        name VARCHAR(255),\n",
    "        country VARCHAR(255)\n",
    "    );\n",
    "\"\"\")"
   ]
  },
  {
   "cell_type": "code",
   "execution_count": 118,
   "id": "929c7465-fff8-49bd-8d0a-86f5188dbcee",
   "metadata": {},
   "outputs": [],
   "source": [
    "# MongoDB connection.\n",
    "mongo_client = pymongo.MongoClient(\"mongodb://localhost:27017/\")\n",
    "mongo_db = mongo_client[\"test_db\"]"
   ]
  },
  {
   "cell_type": "code",
   "execution_count": 119,
   "id": "5ddab78f-3111-4b19-a477-703c0cabdf64",
   "metadata": {},
   "outputs": [],
   "source": [
    "# Create MongoDB collection.\n",
    "# Full-text index.\n",
    "FTIDX_collection = mongo_db[\"FTIDX_collection\"]\n",
    "FTIDX_collection.create_index([(\"name\", pymongo.TEXT)])\n",
    "\n",
    "# Regular index (in ascending order).\n",
    "IDX_collection = mongo_db[\"IDX_collection\"]\n",
    "IDX_collection.create_index([(\"name\", 1)])\n",
    "\n",
    "# No index, except MongoDB's default index, _id.\n",
    "NOIDX_collection = mongo_db[\"NOIDX_collection\"]\n",
    "NOIDX_collection.drop_indexes()"
   ]
  },
  {
   "cell_type": "code",
   "execution_count": 120,
   "id": "1e16166e-37f8-4abe-8460-69ae00c1206c",
   "metadata": {},
   "outputs": [],
   "source": [
    "# Function to insert data into MySQL.\n",
    "def insert_data_mysql(table, data, transactional=True):\n",
    "    if transactional:\n",
    "        mysql_conn.begin() # Start transaction.\n",
    "    sql = f\"INSERT INTO {table} (name, country) VALUES (%s, %s)\"\n",
    "    mysql_cursor.execute(sql, data)\n",
    "    if transactional:\n",
    "        mysql_conn.commit()  # Commit transaction."
   ]
  },
  {
   "cell_type": "code",
   "execution_count": 121,
   "id": "df1002ce-d878-41d4-98d3-c6aa2c9aef19",
   "metadata": {},
   "outputs": [],
   "source": [
    "# Function to insert data into MongoDB.\n",
    "# In MongoDB, every single document insert is an atomic operation.\n",
    "def insert_data_mongo(index_type, data, transactional=True):\n",
    "    if transactional:\n",
    "        with mongo_client.start_session() as session:\n",
    "            with session.start_transaction():\n",
    "                if index_type == \"FTIDX\":\n",
    "                    FTIDX_collection.insert_one(data)\n",
    "                elif index_type == \"IDX\":\n",
    "                    IDX_collection.insert_one(data)\n",
    "                else:\n",
    "                    NOIDX_collection.insert_one(data)\n",
    "    else:\n",
    "        if index_type == \"FTIDX\":\n",
    "            FTIDX_collection.insert_one(data)\n",
    "        elif index_type == \"IDX\":\n",
    "            IDX_collection.insert_one(data)\n",
    "        else:\n",
    "            NOIDX_collection.insert_one(data)"
   ]
  },
  {
   "cell_type": "code",
   "execution_count": 122,
   "id": "3144fac2-36f0-4cad-9bc7-824f215fca19",
   "metadata": {},
   "outputs": [],
   "source": [
    "# Function to delete data from MySQL.\n",
    "def delete_data_mysql(table, name, transactional=True):\n",
    "    if transactional:\n",
    "        mysql_conn.begin()  # Start transaction.\n",
    "    sql = f\"DELETE FROM {table} WHERE name = %s\"\n",
    "    mysql_cursor.execute(sql, (name,))\n",
    "    if transactional:\n",
    "        mysql_conn.commit()  # Commit transaction."
   ]
  },
  {
   "cell_type": "code",
   "execution_count": 123,
   "id": "02228582-9579-4af4-a995-36a17ecec8cd",
   "metadata": {},
   "outputs": [],
   "source": [
    "# Delete data from MongoDB.\n",
    "# MongoDB does not have explicit transactions for single operations.\n",
    "def delete_data_mongo(collection, name, transactional=True):\n",
    "    if transactional:\n",
    "        with mongo_client.start_session() as session:\n",
    "            with session.start_transaction():\n",
    "                if index_type == \"FTIDX\":\n",
    "                    FTIDX_collection.delete_one({\"name\": name})\n",
    "                elif index_type == \"IDX\":\n",
    "                    IDX_collection.delete_one({\"name\": name})\n",
    "                else:\n",
    "                    NOIDX_collection.delete_one({\"name\": name})\n",
    "    else:\n",
    "        if index_type == \"FTIDX\":\n",
    "            FTIDX_collection.delete_one({\"name\": name})\n",
    "        elif index_type == \"IDX\":\n",
    "            IDX_collection.delete_one({\"name\": name})\n",
    "        else:\n",
    "            NOIDX_collection.delete_one({\"name\": name})"
   ]
  },
  {
   "cell_type": "code",
   "execution_count": 124,
   "id": "ccc8bf46-eb59-476c-b288-506037b87e08",
   "metadata": {},
   "outputs": [],
   "source": [
    "# Use faker library to generate fake data.\n",
    "# from faker import Faker\n",
    "\n",
    "# fake = Faker()\n",
    "# id_ = random.randint(1, 10000)\n",
    "# name = fake.city()\n",
    "# country = fake.country()\n",
    "# coord = (str(faker.longitude()), str(faker.latitude()))\n",
    "\n",
    "# Generate fake sample data.\n",
    "def create_sample_data(num_records):\n",
    "    sample_data = []\n",
    "    for i in range(num_records):\n",
    "        sample_data.append({\n",
    "            \"id\": i,\n",
    "            \"name\": f\"City_{i}\",\n",
    "            \"country\": \"RU\",\n",
    "            \"coord\": {\"lon\": random.uniform(-180, 180), \"lat\": random.uniform(-90, 90)}\n",
    "        })\n",
    "    return sample_data"
   ]
  },
  {
   "cell_type": "code",
   "execution_count": 125,
   "id": "c8098efd-25c9-4d40-ab86-2b84ceaf8769",
   "metadata": {},
   "outputs": [],
   "source": [
    "# Experiment.\n",
    "# Types of Queries:\n",
    "#   A. Indexes:\n",
    "#       1. FTIDX: Full-text indexing for efficient text searches.\n",
    "#       2. IDX: Regular indexing for general query optimization.\n",
    "#       3. NOIDX: No indexing, leading to potential performance issues for queries.\n",
    "#   B. Transactional:\n",
    "#      1. Transaction\n",
    "#      2. Non-transaction\n",
    "\n",
    "results = []\n",
    "for i in range(100):\n",
    "    # Generate random data.\n",
    "    name = f\"City_{random.randint(1, 1000)}\"\n",
    "    country = \"IN\"\n",
    "    \n",
    "    # Insert data with different conditions.\n",
    "    for index_type in ['FTIDX', 'IDX', 'NOIDX']:\n",
    "    \tfor transactional in [True, False]:\n",
    "        \t# Measure insert time.\n",
    "        \tstart_time = time.time()\n",
    "        \tinsert_data_mysql(\"_\".join([index_type, \"table\"]), (name, country), transactional)\n",
    "        \tmysql_duration = (time.time() - start_time) * 1000\n",
    "        \t\n",
    "        \tstart_time = time.time()\n",
    "        \tinsert_data_mongo(index_type, {\"name\": name, \"country\": country}, transactional)\n",
    "        \tmongo_duration = (time.time() - start_time) * 1000\n",
    "        \t\n",
    "        \t# Measure delete time.\n",
    "        \tstart_time = time.time()\n",
    "        \tdelete_data_mysql(\"_\".join([index_type, \"table\"]), name, transactional)\n",
    "        \tmysql_delete_duration = (time.time() - start_time) * 1000\n",
    "        \t\n",
    "        \tstart_time = time.time()\n",
    "        \tdelete_data_mongo(index_type, name, transactional)\n",
    "        \tmongo_delete_duration = (time.time() - start_time) * 1000\n",
    "        \t\n",
    "        \t# Store results.\n",
    "        \tresults.append({\n",
    "        \t\t\"Index Type\": index_type,\n",
    "        \t\t\"Transaction\": \"TX\" if transactional else \"NOTX\",\n",
    "        \t\t\"MySQL Insert Time (ms)\": mysql_duration,\n",
    "        \t\t\"MongoDB Insert Time (ms)\": mongo_duration,\n",
    "        \t\t\"MySQL Delete Time (ms)\": mysql_delete_duration,\n",
    "        \t\t\"MongoDB Delete Time (ms)\": mongo_delete_duration\n",
    "        \t})"
   ]
  },
  {
   "cell_type": "code",
   "execution_count": 126,
   "id": "3b60d767-d0d0-4482-8795-c9f7fa3fc762",
   "metadata": {},
   "outputs": [
    {
     "data": {
      "text/plain": [
       "<bound method NDFrame.head of     Index Type Transaction  MySQL Insert Time (ms)  MongoDB Insert Time (ms)  \\\n",
       "0        FTIDX          TX               20.822763                  1.385689   \n",
       "1        FTIDX        NOTX                0.703812                  1.053810   \n",
       "2          IDX          TX               21.986961                  1.289368   \n",
       "3          IDX        NOTX                0.593185                  0.986814   \n",
       "4        NOIDX          TX               19.413471                 42.920113   \n",
       "..         ...         ...                     ...                       ...   \n",
       "595      FTIDX        NOTX                0.554323                  0.756979   \n",
       "596        IDX          TX               14.359236                  1.110077   \n",
       "597        IDX        NOTX                0.574112                  0.788689   \n",
       "598      NOIDX          TX               14.493942                  1.013756   \n",
       "599      NOIDX        NOTX                0.485182                  0.725746   \n",
       "\n",
       "     MySQL Delete Time (ms)  MongoDB Delete Time (ms)  \n",
       "0                 14.657259                  2.089024  \n",
       "1                  0.598669                  1.457930  \n",
       "2                 10.420799                  1.412868  \n",
       "3                  0.622511                  1.224518  \n",
       "4                 11.026859                  1.337290  \n",
       "..                      ...                       ...  \n",
       "595                0.540257                  1.245499  \n",
       "596               12.819052                  1.274824  \n",
       "597                0.528574                  0.909805  \n",
       "598                7.935524                  1.152515  \n",
       "599                0.464916                  0.913382  \n",
       "\n",
       "[600 rows x 6 columns]>"
      ]
     },
     "execution_count": 126,
     "metadata": {},
     "output_type": "execute_result"
    }
   ],
   "source": [
    "# Convert results to Pandas' DataFrame.\n",
    "results_df = pd.DataFrame(results)\n",
    "results_df.head"
   ]
  },
  {
   "cell_type": "code",
   "execution_count": 127,
   "id": "3dd31606-9fa5-44a2-9ba6-4d8242b9d83e",
   "metadata": {},
   "outputs": [
    {
     "data": {
      "image/png": "[encoded data removed]",
      "text/plain": [
       "<Figure size 600x900 with 2 Axes>"
      ]
     },
     "metadata": {},
     "output_type": "display_data"
    }
   ],
   "source": [
    "# Create a new column for combined labels.\n",
    "results_df['Label'] = results_df['Index Type'] + '-' + results_df['Transaction']\n",
    "\n",
    "# Set the bar width.\n",
    "bar_width = 0.2\n",
    "\n",
    "# Create subplots for each query type.\n",
    "fig, axs = plt.subplots(2, 1, figsize=(6, 9))\n",
    "\n",
    "# Define query types and their corresponding column names.\n",
    "query_types = ['Insert', 'Delete']\n",
    "mysql_columns = ['MySQL Insert Time (ms)', 'MySQL Delete Time (ms)']\n",
    "mongo_columns = ['MongoDB Insert Time (ms)', 'MongoDB Delete Time (ms)']\n",
    "\n",
    "# Loop through each query type and create a bar plot.\n",
    "for i, query in enumerate(query_types):\n",
    "    # Set the positions of the bars on the x-axis.\n",
    "    x = np.arange(len(results_df['Label'].unique()))\n",
    "    \n",
    "    # Plot MySQL and MongoDB times for the current query type.\n",
    "    axs[i].bar(x - bar_width/2,\n",
    "               results_df.groupby('Label')[mysql_columns[i]].mean(),\n",
    "               width=bar_width,\n",
    "               label='MySQL', color='red')\n",
    "    \n",
    "    axs[i].bar(x + bar_width/2, \n",
    "               results_df.groupby('Label')[mongo_columns[i]].mean(), \n",
    "               width=bar_width, \n",
    "               label='MongoDB', color='black')\n",
    "    \n",
    "    # Set the x-ticks and labels.\n",
    "    axs[i].set_xticks(x)\n",
    "    axs[i].set_xticklabels(results_df['Label'].unique())\n",
    "    axs[i].set_title(f'{query} Query Duration Comparison')\n",
    "    axs[i].set_ylabel('Average Time (ms)')\n",
    "    axs[i].legend()\n",
    "    axs[i].grid()\n",
    "\n",
    "# Adjust layout and show the plots.\n",
    "plt.tight_layout()\n",
    "plt.show()"
   ]
  },
  {
   "cell_type": "code",
   "execution_count": 128,
   "id": "9e5c40c1-7b90-49d2-a80e-91f59461a30a",
   "metadata": {},
   "outputs": [],
   "source": [
    "# Close connections.\n",
    "# TODO: Uncomment all commands.\n",
    "# mysql_cursor.close()\n",
    "# mysql_conn.close()\n",
    "# mongo_client.close()"
   ]
  }
 ],
 "metadata": {
  "kernelspec": {
   "display_name": "Python 3 (ipykernel)",
   "language": "python",
   "name": "python3"
  },
  "language_info": {
   "codemirror_mode": {
    "name": "ipython",
    "version": 3
   },
   "file_extension": ".py",
   "mimetype": "text/x-python",
   "name": "python",
   "nbconvert_exporter": "python",
   "pygments_lexer": "ipython3",
   "version": "3.10.15"
  }
 },
 "nbformat": 4,
 "nbformat_minor": 5
}
