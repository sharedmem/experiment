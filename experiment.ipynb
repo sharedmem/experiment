{
 "cells": [
  {
   "cell_type": "code",
   "execution_count": 1,
   "id": "5b9a5d27-f3d3-428a-95d0-88cb7b378c43",
   "metadata": {},
   "outputs": [],
   "source": [
    "import os\n",
    "import random\n",
    "import time\n",
    "\n",
    "import matplotlib.pyplot as plt\n",
    "import numpy as np\n",
    "import pandas as pd\n",
    "import pymysql\n",
    "import pymongo"
   ]
  },
  {
   "cell_type": "code",
   "execution_count": 2,
   "id": "ba78674d-39c6-4e02-9471-9c6bb9a49768",
   "metadata": {},
   "outputs": [],
   "source": [
    "# Wait for the databases to be ready.\n",
    "def wait_for_services():\n",
    "    time.sleep(10)  # Wait for 10 seconds for the services to start"
   ]
  },
  {
   "cell_type": "code",
   "execution_count": 3,
   "id": "a9f37cd6-bd4b-45a4-87fa-6121e5755747",
   "metadata": {},
   "outputs": [],
   "source": [
    "# MySQL connection.\n",
    "mysql_conn = pymysql.connect(host='localhost', user='root', password='root')\n",
    "mysql_cursor = mysql_conn.cursor()"
   ]
  },
  {
   "cell_type": "code",
   "execution_count": 4,
   "id": "d8f0d5a0-3d33-4e5b-9961-482075857f08",
   "metadata": {},
   "outputs": [
    {
     "data": {
      "text/plain": [
       "0"
      ]
     },
     "execution_count": 4,
     "metadata": {},
     "output_type": "execute_result"
    }
   ],
   "source": [
    "# Create the database if it doesn't exist.\n",
    "mysql_cursor.execute(\"CREATE DATABASE IF NOT EXISTS test_db;\")\n",
    "mysql_cursor.execute(\"USE test_db;\")"
   ]
  },
  {
   "cell_type": "code",
   "execution_count": 5,
   "id": "07e142d2-7ff0-4624-af2e-dd3da549f763",
   "metadata": {},
   "outputs": [
    {
     "data": {
      "text/plain": [
       "0"
      ]
     },
     "execution_count": 5,
     "metadata": {},
     "output_type": "execute_result"
    }
   ],
   "source": [
    "# Create table in MySQL\n",
    "mysql_cursor.execute(\"\"\"\n",
    "    CREATE TABLE IF NOT EXISTS test_table (\n",
    "        id INT AUTO_INCREMENT PRIMARY KEY,\n",
    "        name VARCHAR(255),\n",
    "        country VARCHAR(255)\n",
    "    );\n",
    "\"\"\")"
   ]
  },
  {
   "cell_type": "code",
   "execution_count": 6,
   "id": "929c7465-fff8-49bd-8d0a-86f5188dbcee",
   "metadata": {},
   "outputs": [],
   "source": [
    "# MongoDB connection\n",
    "mongo_client = pymongo.MongoClient(\"mongodb://localhost:27017/\")\n",
    "mongo_db = mongo_client[\"test_db\"]\n",
    "mongo_collection = mongo_db[\"test_collection\"]"
   ]
  },
  {
   "cell_type": "code",
   "execution_count": 7,
   "id": "473214b8-034b-45f1-a658-7b79227b842b",
   "metadata": {},
   "outputs": [
    {
     "data": {
      "text/plain": [
       "'name_1'"
      ]
     },
     "execution_count": 7,
     "metadata": {},
     "output_type": "execute_result"
    }
   ],
   "source": [
    "# Create indexes in MongoDB\n",
    "mongo_collection.create_index([(\"name\", pymongo.TEXT)])  # Full-text index\n",
    "mongo_collection.create_index([(\"name\", 1)])  # Regular index"
   ]
  },
  {
   "cell_type": "code",
   "execution_count": 8,
   "id": "1e16166e-37f8-4abe-8460-69ae00c1206c",
   "metadata": {},
   "outputs": [],
   "source": [
    "# Function to insert data into MySQL.\n",
    "def insert_data_mysql(data, transactional=True):\n",
    "    if transactional:\n",
    "        mysql_conn.begin() # Start transaction.\n",
    "    sql = \"INSERT INTO test_table (name, country) VALUES (%s, %s)\"\n",
    "    mysql_cursor.execute(sql, data)\n",
    "    if transactional:\n",
    "        mysql_conn.commit()  # Commit transaction."
   ]
  },
  {
   "cell_type": "code",
   "execution_count": 9,
   "id": "df1002ce-d878-41d4-98d3-c6aa2c9aef19",
   "metadata": {},
   "outputs": [],
   "source": [
    "# Function to insert data into MongoDB.\n",
    "def insert_data_mongo(data, transactional=True):\n",
    "    if transactional:\n",
    "        mongo_collection.insert_one(data)  # MongoDB does not have explicit transactions for single operations\n",
    "    else:\n",
    "        mongo_collection.insert_one(data)"
   ]
  },
  {
   "cell_type": "code",
   "execution_count": 10,
   "id": "3144fac2-36f0-4cad-9bc7-824f215fca19",
   "metadata": {},
   "outputs": [],
   "source": [
    "# Function to delete data from MySQL.\n",
    "def delete_data_mysql(name, transactional=True):\n",
    "    if transactional:\n",
    "        mysql_conn.begin()  # Start transaction\n",
    "    sql = \"DELETE FROM test_table WHERE name = %s\"\n",
    "    mysql_cursor.execute(sql, (name,))\n",
    "    if transactional:\n",
    "        mysql_conn.commit()  # Commit transaction"
   ]
  },
  {
   "cell_type": "code",
   "execution_count": 11,
   "id": "02228582-9579-4af4-a995-36a17ecec8cd",
   "metadata": {},
   "outputs": [],
   "source": [
    "# Function to delete data from MongoDB.\n",
    "def delete_data_mongo(name, transactional=True):\n",
    "    mongo_collection.delete_one({\"name\": name})"
   ]
  },
  {
   "cell_type": "code",
   "execution_count": 12,
   "id": "c8098efd-25c9-4d40-ab86-2b84ceaf8769",
   "metadata": {},
   "outputs": [],
   "source": [
    "# Experiment.\n",
    "results = []\n",
    "for i in range(100):\n",
    "    # Generate random data.\n",
    "    name = f\"City_{random.randint(1, 1000)}\"\n",
    "    country = \"RU\"\n",
    "\n",
    "    # Insert data with different conditions.\n",
    "    for index_type in ['FTIDX', 'IDX', 'NOIDX']:\n",
    "    \tfor transactional in [True, False]:\n",
    "        \t# Measure insert time.\n",
    "        \tstart_time = time.time()\n",
    "        \tif index_type == 'NOIDX':\n",
    "        \t\tinsert_data_mysql((name, country), transactional)\n",
    "        \telse:\n",
    "        \t\tinsert_data_mysql((name, country), transactional)\n",
    "        \tmysql_duration = (time.time() - start_time) * 1000\n",
    "        \t\n",
    "        \tstart_time = time.time()\n",
    "        \tinsert_data_mongo({\"name\": name, \"country\": country}, transactional)\n",
    "        \tmongo_duration = (time.time() - start_time) * 1000\n",
    "        \t\n",
    "        \t# Measure delete time.\n",
    "        \tstart_time = time.time()\n",
    "        \tdelete_data_mysql(name, transactional)\n",
    "        \tmysql_delete_duration = (time.time() - start_time) * 1000\n",
    "        \t\n",
    "        \tstart_time = time.time()\n",
    "        \tdelete_data_mongo(name, transactional)\n",
    "        \tmongo_delete_duration = (time.time() - start_time) * 1000\n",
    "        \t\n",
    "        \t# Store results.\n",
    "        \tresults.append({\n",
    "        \t\t\"Index Type\": index_type,\n",
    "        \t\t\"Transaction\": \"TX\" if transactional else \"NOTX\",\n",
    "        \t\t\"MySQL Insert Time (ms)\": mysql_duration,\n",
    "        \t\t\"MongoDB Insert Time (ms)\": mongo_duration,\n",
    "        \t\t\"MySQL Delete Time (ms)\": mysql_delete_duration,\n",
    "        \t\t\"MongoDB Delete Time (ms)\": mongo_delete_duration\n",
    "        \t})"
   ]
  },
  {
   "cell_type": "code",
   "execution_count": 13,
   "id": "3b60d767-d0d0-4482-8795-c9f7fa3fc762",
   "metadata": {},
   "outputs": [
    {
     "data": {
      "text/plain": [
       "<bound method NDFrame.head of     Index Type Transaction  MySQL Insert Time (ms)  MongoDB Insert Time (ms)  \\\n",
       "0        FTIDX          TX               15.826941                 10.812044   \n",
       "1        FTIDX        NOTX                0.611067                  1.032591   \n",
       "2          IDX          TX               22.533178                  1.730442   \n",
       "3          IDX        NOTX                1.279593                  1.698494   \n",
       "4        NOIDX          TX               20.679712                  2.137661   \n",
       "..         ...         ...                     ...                       ...   \n",
       "595      FTIDX        NOTX                0.645638                  1.131535   \n",
       "596        IDX          TX               19.919634                  1.410007   \n",
       "597        IDX        NOTX                0.689745                  1.253843   \n",
       "598      NOIDX          TX               15.189648                  1.739025   \n",
       "599      NOIDX        NOTX                0.700712                  1.151323   \n",
       "\n",
       "     MySQL Delete Time (ms)  MongoDB Delete Time (ms)  \n",
       "0                 10.549784                  1.569748  \n",
       "1                  0.558615                  1.150131  \n",
       "2                 12.289762                  2.666473  \n",
       "3                  1.188040                  2.645493  \n",
       "4                 12.536526                  2.398491  \n",
       "..                      ...                       ...  \n",
       "595                0.806093                  1.657009  \n",
       "596                8.413315                  1.585960  \n",
       "597                0.734806                  1.599073  \n",
       "598                8.100033                  1.404047  \n",
       "599                0.696898                  1.587391  \n",
       "\n",
       "[600 rows x 6 columns]>"
      ]
     },
     "execution_count": 13,
     "metadata": {},
     "output_type": "execute_result"
    }
   ],
   "source": [
    "# Convert results to Pandas' DataFrame.\n",
    "results_df = pd.DataFrame(results)\n",
    "results_df.head"
   ]
  },
  {
   "cell_type": "code",
   "execution_count": 16,
   "id": "3dd31606-9fa5-44a2-9ba6-4d8242b9d83e",
   "metadata": {},
   "outputs": [
    {
     "data": {
      "image/png": "[encoded data removed]",
      "text/plain": [
       "<Figure size 600x900 with 2 Axes>"
      ]
     },
     "metadata": {},
     "output_type": "display_data"
    }
   ],
   "source": [
    "# Create a new column for combined labels\n",
    "results_df['Label'] = results_df['Index Type'] + '-' + results_df['Transaction']\n",
    "\n",
    "# Set the bar width\n",
    "bar_width = 0.2\n",
    "\n",
    "# Create subplots for each query type\n",
    "fig, axs = plt.subplots(2, 1, figsize=(6, 9))\n",
    "\n",
    "# Define query types and their corresponding column names\n",
    "query_types = ['Insert', 'Delete']\n",
    "mysql_columns = ['MySQL Insert Time (ms)', 'MySQL Delete Time (ms)']\n",
    "mongo_columns = ['MongoDB Insert Time (ms)', 'MongoDB Delete Time (ms)']\n",
    "\n",
    "# Loop through each query type and create a bar plot.\n",
    "for i, query in enumerate(query_types):\n",
    "    # Set the positions of the bars on the x-axis.\n",
    "    x = np.arange(len(results_df['Label'].unique()))\n",
    "    \n",
    "    # Plot MySQL and MongoDB times for the current query type.\n",
    "    axs[i].bar(x - bar_width/2, \n",
    "               results_df.groupby('Label')[mysql_columns[i]].mean(), \n",
    "               width=bar_width, \n",
    "               label='MySQL', color='red')\n",
    "    \n",
    "    axs[i].bar(x + bar_width/2, \n",
    "               results_df.groupby('Label')[mongo_columns[i]].mean(), \n",
    "               width=bar_width, \n",
    "               label='MongoDB', color='black')\n",
    "    \n",
    "    # Set the x-ticks and labels\n",
    "    axs[i].set_xticks(x)\n",
    "    axs[i].set_xticklabels(results_df['Label'].unique())\n",
    "    axs[i].set_title(f'{query} Query Duration Comparison')\n",
    "    axs[i].set_ylabel('Average Time (s)')\n",
    "    axs[i].legend()\n",
    "    axs[i].grid()\n",
    "\n",
    "# Adjust layout and show the plots\n",
    "plt.tight_layout()\n",
    "plt.show()"
   ]
  },
  {
   "cell_type": "code",
   "execution_count": 15,
   "id": "9e5c40c1-7b90-49d2-a80e-91f59461a30a",
   "metadata": {},
   "outputs": [],
   "source": [
    "# Close connections.\n",
    "# TODO: Uncommet all commands.\n",
    "# mysql_cursor.close()\n",
    "# mysql_conn.close()\n",
    "# mongo_client.close()"
   ]
  }
 ],
 "metadata": {
  "kernelspec": {
   "display_name": "Python 3 (ipykernel)",
   "language": "python",
   "name": "python3"
  },
  "language_info": {
   "codemirror_mode": {
    "name": "ipython",
    "version": 3
   },
   "file_extension": ".py",
   "mimetype": "text/x-python",
   "name": "python",
   "nbconvert_exporter": "python",
   "pygments_lexer": "ipython3",
   "version": "3.10.15"
  }
 },
 "nbformat": 4,
 "nbformat_minor": 5
}
